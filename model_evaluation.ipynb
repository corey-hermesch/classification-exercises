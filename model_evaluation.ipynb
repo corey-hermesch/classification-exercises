{
 "cells": [
  {
   "cell_type": "markdown",
   "id": "7ff456c6",
   "metadata": {},
   "source": [
    "## Exercises\n",
    "\n",
    "1.    Create a new file named model_evaluation.py or model_evaluation.ipynb for these exercises.\n",
    "\n",
    "2.    Given the following confusion matrix, evaluate (by hand) the model's performance.\n",
    "\n",
    "|               | pred dog   | pred cat   |\n",
    "|:------------  |-----------:|-----------:|\n",
    "| actual dog    |         46 |         7  |\n",
    "| actual cat    |         13 |         34 |\n",
    "\n",
    "    In the context of this problem, what is a false positive?\n",
    "    In the context of this problem, what is a false negative?\n",
    "    How would you describe this model?\n"
   ]
  },
  {
   "cell_type": "code",
   "execution_count": 4,
   "id": "782f967e",
   "metadata": {},
   "outputs": [],
   "source": [
    "# 2. I called Dog positive and cat negative\n",
    "# - A False Positve is when i predict a dog, but it was actually a cat\n",
    "# - A False Negative is when I predict a cat, but it was actually a dog.\n",
    "# - How would you describe this model:\n",
    "\n",
    "# - Accuracy = .8\n",
    "# - Recall ~ .87\n",
    "# - Precision ~ .78\n",
    "\n",
    "# This model is pretty good! It has better recall than precision though, so if the cost of a false negative\n",
    "# is something we are worried about, we are in good shape. If we are more worried about a false positive, we still\n",
    "# have a good model, but not as good."
   ]
  },
  {
   "cell_type": "markdown",
   "id": "c09b2cc9",
   "metadata": {},
   "source": [
    "3. You are working as a datascientist working for Codeup Cody Creator (C3 for short), a rubber-duck manufacturing plant.\n",
    "\n",
    "Unfortunately, some of the rubber ducks that are produced will have defects. Your team has built several models that try to predict those defects, and the data from their predictions can be found here.\n",
    "\n",
    "Use the predictions dataset and pandas to help answer the following questions:\n",
    "\n",
    "    - Below I calculate the accuracy, recall, and precision for each model\n",
    "    - questions are pasted and answered further below"
   ]
  },
  {
   "cell_type": "code",
   "execution_count": 5,
   "id": "9a594cc7",
   "metadata": {},
   "outputs": [],
   "source": [
    "import numpy as np\n",
    "import pandas as pd\n",
    "import os"
   ]
  },
  {
   "cell_type": "code",
   "execution_count": 8,
   "id": "3f5a82a2",
   "metadata": {},
   "outputs": [],
   "source": [
    "from sklearn.metrics import accuracy_score, precision_score, recall_score, classification_report"
   ]
  },
  {
   "cell_type": "code",
   "execution_count": 7,
   "id": "e88bf802",
   "metadata": {
    "scrolled": true
   },
   "outputs": [
    {
     "data": {
      "text/html": [
       "<div>\n",
       "<style scoped>\n",
       "    .dataframe tbody tr th:only-of-type {\n",
       "        vertical-align: middle;\n",
       "    }\n",
       "\n",
       "    .dataframe tbody tr th {\n",
       "        vertical-align: top;\n",
       "    }\n",
       "\n",
       "    .dataframe thead th {\n",
       "        text-align: right;\n",
       "    }\n",
       "</style>\n",
       "<table border=\"1\" class=\"dataframe\">\n",
       "  <thead>\n",
       "    <tr style=\"text-align: right;\">\n",
       "      <th></th>\n",
       "      <th>actual</th>\n",
       "      <th>model1</th>\n",
       "      <th>model2</th>\n",
       "      <th>model3</th>\n",
       "    </tr>\n",
       "  </thead>\n",
       "  <tbody>\n",
       "    <tr>\n",
       "      <th>0</th>\n",
       "      <td>No Defect</td>\n",
       "      <td>No Defect</td>\n",
       "      <td>Defect</td>\n",
       "      <td>No Defect</td>\n",
       "    </tr>\n",
       "    <tr>\n",
       "      <th>1</th>\n",
       "      <td>No Defect</td>\n",
       "      <td>No Defect</td>\n",
       "      <td>Defect</td>\n",
       "      <td>Defect</td>\n",
       "    </tr>\n",
       "    <tr>\n",
       "      <th>2</th>\n",
       "      <td>No Defect</td>\n",
       "      <td>No Defect</td>\n",
       "      <td>Defect</td>\n",
       "      <td>No Defect</td>\n",
       "    </tr>\n",
       "    <tr>\n",
       "      <th>3</th>\n",
       "      <td>No Defect</td>\n",
       "      <td>Defect</td>\n",
       "      <td>Defect</td>\n",
       "      <td>Defect</td>\n",
       "    </tr>\n",
       "    <tr>\n",
       "      <th>4</th>\n",
       "      <td>No Defect</td>\n",
       "      <td>No Defect</td>\n",
       "      <td>Defect</td>\n",
       "      <td>No Defect</td>\n",
       "    </tr>\n",
       "  </tbody>\n",
       "</table>\n",
       "</div>"
      ],
      "text/plain": [
       "      actual     model1  model2     model3\n",
       "0  No Defect  No Defect  Defect  No Defect\n",
       "1  No Defect  No Defect  Defect     Defect\n",
       "2  No Defect  No Defect  Defect  No Defect\n",
       "3  No Defect     Defect  Defect     Defect\n",
       "4  No Defect  No Defect  Defect  No Defect"
      ]
     },
     "execution_count": 7,
     "metadata": {},
     "output_type": "execute_result"
    }
   ],
   "source": [
    "filename = 'c3.csv'\n",
    "df = pd.read_csv(filename)\n",
    "df.head()"
   ]
  },
  {
   "cell_type": "code",
   "execution_count": 93,
   "id": "1832fbce",
   "metadata": {},
   "outputs": [
    {
     "name": "stdout",
     "output_type": "stream",
     "text": [
      "Baseline accuracy = the greater of predicting all positives or predicting all negatives.\n",
      "The accuracy of predicting all positives is 0.08\n",
      "The accuracy of predicting all negatives is 0.92\n",
      "Therefore the baseline accuracy is 0.92\n"
     ]
    }
   ],
   "source": [
    "# calculate baseline accuracy\n",
    "   ### next time, just do a value_counts of the actual column. Then pick the one with the highest count \n",
    "   ### as your baseline\n",
    "df['all_pos'] = 'Defect'\n",
    "df['all_neg'] = 'No Defect'\n",
    "all_pos_accuracy = (df.actual == df.all_pos).mean()\n",
    "all_neg_accuracy = (df.actual == df.all_neg).mean()\n",
    "print (\"Baseline accuracy = the greater of predicting all positives or predicting all negatives.\")\n",
    "print (f\"The accuracy of predicting all positives is {round(all_pos_accuracy, 2)}\")\n",
    "print (f\"The accuracy of predicting all negatives is {round(all_neg_accuracy, 2)}\")\n",
    "baseline_accuracy = max(all_pos_accuracy, all_neg_accuracy)\n",
    "print (f\"Therefore the baseline accuracy is {round(baseline_accuracy, 2)}\")"
   ]
  },
  {
   "cell_type": "code",
   "execution_count": 94,
   "id": "ba739955",
   "metadata": {},
   "outputs": [],
   "source": [
    "#calculate baseline recall using all_neg column\n",
    "subset = df[df.actual == 'Defect']\n",
    "baseline_recall = (subset.actual == subset.all_neg).mean()\n",
    "\n",
    "#calculate baseline precision\n",
    "subset = df[df.all_neg == 'Defect']\n",
    "# baseline_precision = (subset.actual == subset.all_neg).mean() ## Errors out ##\n",
    "\n",
    "# That errors out. Since we only look at the subset where we made positive prediction for our baseline (all_neg)\n",
    "# prediction, we get 0. Why? The baseline prediction is to predict all negatives.\n",
    "baseline_precision = 0.0"
   ]
  },
  {
   "cell_type": "code",
   "execution_count": 95,
   "id": "921f0dea",
   "metadata": {},
   "outputs": [],
   "source": [
    "#make a metrics_df to collect our metrics. Fill it with the baseline metrics first.\n",
    "\n",
    "# add baseline accuracy\n",
    "metrics_df = pd.DataFrame(data = [{'metric' : 'accuracy', 'baseline' : baseline_accuracy}])\n",
    "\n",
    "# add the baseline recall\n",
    "new_df = pd.DataFrame(data = [{'metric' : 'recall', 'baseline' : baseline_recall}])\n",
    "metrics_df = pd.concat([metrics_df, new_df], axis=0, ignore_index=True)\n",
    "\n",
    "# add the baseline precision\n",
    "new_df = pd.DataFrame(data = [{'metric' : 'precision', 'baseline' : baseline_precision}])\n",
    "metrics_df = pd.concat([metrics_df, new_df], axis=0, ignore_index=True)"
   ]
  },
  {
   "cell_type": "code",
   "execution_count": 96,
   "id": "24783007",
   "metadata": {},
   "outputs": [],
   "source": [
    "# calculate accuracy, recall, and precision for each model and append statistics to metrics_df\n",
    "\n",
    "model_cols = np.array(df.columns)[1:4]\n",
    "for col in model_cols:\n",
    "    accuracy = (df[col] == df.actual).mean()\n",
    "    \n",
    "    subset = df[df.actual == 'Defect']\n",
    "    recall = (subset.actual == subset[col]).mean()\n",
    "    \n",
    "    subset = df[df[col] == 'Defect']\n",
    "    precision = (subset.actual == subset[col]).mean()\n",
    "    \n",
    "    new_df = pd.DataFrame({col: [accuracy, recall, precision]})\n",
    "    metrics_df = pd.concat([metrics_df, new_df], axis=1)"
   ]
  },
  {
   "cell_type": "code",
   "execution_count": 97,
   "id": "0196ba7f",
   "metadata": {
    "scrolled": true
   },
   "outputs": [
    {
     "data": {
      "text/html": [
       "<div>\n",
       "<style scoped>\n",
       "    .dataframe tbody tr th:only-of-type {\n",
       "        vertical-align: middle;\n",
       "    }\n",
       "\n",
       "    .dataframe tbody tr th {\n",
       "        vertical-align: top;\n",
       "    }\n",
       "\n",
       "    .dataframe thead th {\n",
       "        text-align: right;\n",
       "    }\n",
       "</style>\n",
       "<table border=\"1\" class=\"dataframe\">\n",
       "  <thead>\n",
       "    <tr style=\"text-align: right;\">\n",
       "      <th></th>\n",
       "      <th>metric</th>\n",
       "      <th>baseline</th>\n",
       "      <th>model1</th>\n",
       "      <th>model2</th>\n",
       "      <th>model3</th>\n",
       "    </tr>\n",
       "  </thead>\n",
       "  <tbody>\n",
       "    <tr>\n",
       "      <th>0</th>\n",
       "      <td>accuracy</td>\n",
       "      <td>0.92</td>\n",
       "      <td>0.95</td>\n",
       "      <td>0.5600</td>\n",
       "      <td>0.555000</td>\n",
       "    </tr>\n",
       "    <tr>\n",
       "      <th>1</th>\n",
       "      <td>recall</td>\n",
       "      <td>0.00</td>\n",
       "      <td>0.50</td>\n",
       "      <td>0.5625</td>\n",
       "      <td>0.812500</td>\n",
       "    </tr>\n",
       "    <tr>\n",
       "      <th>2</th>\n",
       "      <td>precision</td>\n",
       "      <td>0.00</td>\n",
       "      <td>0.80</td>\n",
       "      <td>0.1000</td>\n",
       "      <td>0.131313</td>\n",
       "    </tr>\n",
       "  </tbody>\n",
       "</table>\n",
       "</div>"
      ],
      "text/plain": [
       "      metric  baseline  model1  model2    model3\n",
       "0   accuracy      0.92    0.95  0.5600  0.555000\n",
       "1     recall      0.00    0.50  0.5625  0.812500\n",
       "2  precision      0.00    0.80  0.1000  0.131313"
      ]
     },
     "execution_count": 97,
     "metadata": {},
     "output_type": "execute_result"
    }
   ],
   "source": [
    "metrics_df"
   ]
  },
  {
   "cell_type": "markdown",
   "id": "0f8b15ce",
   "metadata": {},
   "source": [
    "    - An internal team wants to investigate the cause of the manufacturing defects. They tell you that they want to identify as many of the ducks that have a defect as possible. Which evaluation metric would be appropriate here? Which model would be the best fit for this use case?\n",
    "    \n",
    "### Answer: Here we want to maximize recall to minimize our false negatives. In other words, the cost of a FN is high.  Model3 has the highest rate for recall. Pick Model3\n",
    "\n",
    "    - Recently several stories in the local news have come out highlighting customers who received a rubber duck with a defect, and portraying C3 in a bad light. The PR team has decided to launch a program that gives customers with a defective duck a vacation to Hawaii. They need you to predict which ducks will have defects, but tell you the really don't want to accidentally give out a vacation package when the duck really doesn't have a defect. Which evaluation metric would be appropriate here? Which model would be the best fit for this use case?\n",
    "    \n",
    "### Answer: The cost of a false positive is high, so we want to minimize it. Precision is the metric to use. Model1 has the highest value for precision. Pick Model1"
   ]
  },
  {
   "cell_type": "markdown",
   "id": "35a02df0",
   "metadata": {},
   "source": [
    "## Question 4\n",
    "\n",
    "4. You are working as a data scientist for Gives You Paws ™, a subscription based service that shows you cute pictures of dogs or cats (or both for an additional fee).\n",
    "\n",
    "At Gives You Paws, anyone can upload pictures of their cats or dogs. The photos are then put through a two step process. First an automated algorithm tags pictures as either a cat or a dog (Phase I). Next, the photos that have been initially identified are put through another round of review, possibly with some human oversight, before being presented to the users (Phase II).\n",
    "\n",
    "Several models have already been developed with the data, and you can find their results here.\n",
    "\n",
    "Given this dataset, use pandas to create a baseline model (i.e. a model that just predicts the most common class) and answer the following questions:\n",
    "\n",
    "#### Questions pasted below the classification_report printout"
   ]
  },
  {
   "cell_type": "code",
   "execution_count": 100,
   "id": "6df433d5",
   "metadata": {},
   "outputs": [
    {
     "data": {
      "text/html": [
       "<div>\n",
       "<style scoped>\n",
       "    .dataframe tbody tr th:only-of-type {\n",
       "        vertical-align: middle;\n",
       "    }\n",
       "\n",
       "    .dataframe tbody tr th {\n",
       "        vertical-align: top;\n",
       "    }\n",
       "\n",
       "    .dataframe thead th {\n",
       "        text-align: right;\n",
       "    }\n",
       "</style>\n",
       "<table border=\"1\" class=\"dataframe\">\n",
       "  <thead>\n",
       "    <tr style=\"text-align: right;\">\n",
       "      <th></th>\n",
       "      <th>actual</th>\n",
       "      <th>model1</th>\n",
       "      <th>model2</th>\n",
       "      <th>model3</th>\n",
       "      <th>model4</th>\n",
       "    </tr>\n",
       "  </thead>\n",
       "  <tbody>\n",
       "    <tr>\n",
       "      <th>0</th>\n",
       "      <td>cat</td>\n",
       "      <td>cat</td>\n",
       "      <td>dog</td>\n",
       "      <td>cat</td>\n",
       "      <td>dog</td>\n",
       "    </tr>\n",
       "    <tr>\n",
       "      <th>1</th>\n",
       "      <td>dog</td>\n",
       "      <td>dog</td>\n",
       "      <td>cat</td>\n",
       "      <td>cat</td>\n",
       "      <td>dog</td>\n",
       "    </tr>\n",
       "    <tr>\n",
       "      <th>2</th>\n",
       "      <td>dog</td>\n",
       "      <td>cat</td>\n",
       "      <td>cat</td>\n",
       "      <td>cat</td>\n",
       "      <td>dog</td>\n",
       "    </tr>\n",
       "    <tr>\n",
       "      <th>3</th>\n",
       "      <td>dog</td>\n",
       "      <td>dog</td>\n",
       "      <td>dog</td>\n",
       "      <td>cat</td>\n",
       "      <td>dog</td>\n",
       "    </tr>\n",
       "    <tr>\n",
       "      <th>4</th>\n",
       "      <td>cat</td>\n",
       "      <td>cat</td>\n",
       "      <td>cat</td>\n",
       "      <td>dog</td>\n",
       "      <td>dog</td>\n",
       "    </tr>\n",
       "  </tbody>\n",
       "</table>\n",
       "</div>"
      ],
      "text/plain": [
       "  actual model1 model2 model3 model4\n",
       "0    cat    cat    dog    cat    dog\n",
       "1    dog    dog    cat    cat    dog\n",
       "2    dog    cat    cat    cat    dog\n",
       "3    dog    dog    dog    cat    dog\n",
       "4    cat    cat    cat    dog    dog"
      ]
     },
     "execution_count": 100,
     "metadata": {},
     "output_type": "execute_result"
    }
   ],
   "source": [
    "filename = 'gives_you_paws.csv'\n",
    "df = pd.read_csv(filename)\n",
    "df.head()"
   ]
  },
  {
   "cell_type": "code",
   "execution_count": 108,
   "id": "a8bfcf76",
   "metadata": {},
   "outputs": [
    {
     "data": {
      "text/plain": [
       "0.6508"
      ]
     },
     "execution_count": 108,
     "metadata": {},
     "output_type": "execute_result"
    }
   ],
   "source": [
    "df['baseline'] = 'dog'\n",
    "(df.actual == df.baseline).mean()"
   ]
  },
  {
   "cell_type": "code",
   "execution_count": 111,
   "id": "aef959e5",
   "metadata": {},
   "outputs": [
    {
     "name": "stdout",
     "output_type": "stream",
     "text": [
      "model1\n",
      "              precision    recall  f1-score   support\n",
      "\n",
      "         cat       0.69      0.82      0.75      1746\n",
      "         dog       0.89      0.80      0.84      3254\n",
      "\n",
      "    accuracy                           0.81      5000\n",
      "   macro avg       0.79      0.81      0.80      5000\n",
      "weighted avg       0.82      0.81      0.81      5000\n",
      "\n",
      "model2\n",
      "              precision    recall  f1-score   support\n",
      "\n",
      "         cat       0.48      0.89      0.63      1746\n",
      "         dog       0.89      0.49      0.63      3254\n",
      "\n",
      "    accuracy                           0.63      5000\n",
      "   macro avg       0.69      0.69      0.63      5000\n",
      "weighted avg       0.75      0.63      0.63      5000\n",
      "\n",
      "model3\n",
      "              precision    recall  f1-score   support\n",
      "\n",
      "         cat       0.36      0.51      0.42      1746\n",
      "         dog       0.66      0.51      0.57      3254\n",
      "\n",
      "    accuracy                           0.51      5000\n",
      "   macro avg       0.51      0.51      0.50      5000\n",
      "weighted avg       0.55      0.51      0.52      5000\n",
      "\n",
      "model4\n",
      "              precision    recall  f1-score   support\n",
      "\n",
      "         cat       0.81      0.35      0.48      1746\n",
      "         dog       0.73      0.96      0.83      3254\n",
      "\n",
      "    accuracy                           0.74      5000\n",
      "   macro avg       0.77      0.65      0.66      5000\n",
      "weighted avg       0.76      0.74      0.71      5000\n",
      "\n"
     ]
    }
   ],
   "source": [
    "# using classification_report to try and go fast\n",
    "model_cols = np.array(df.columns)[1:5]\n",
    "for col in model_cols:\n",
    "    print(col)\n",
    "    print(classification_report(df.actual, df[col], labels = ['cat', 'dog']))"
   ]
  },
  {
   "cell_type": "markdown",
   "id": "98a737d5",
   "metadata": {},
   "source": [
    "    In terms of accuracy, how do the various models compare to the baseline model? Are any of the models better than the baseline?\n",
    "#### Answer: Model 1 and 4 have better than baseline accuracy\n",
    "    Suppose you are working on a team that solely deals with dog pictures. Which of these models would you recommend?\n",
    "#### Answer: Model 4. I want to minimize false negatives, so I pick the highest recall value with dog on the left.\n",
    "    Suppose you are working on a team that solely deals with cat pictures. Which of these models would you recommend?\n",
    "#### Answer: Model2. I want to minimize false negatives, so I pick the highest recall value with cat on the left."
   ]
  },
  {
   "cell_type": "markdown",
   "id": "229d04f7",
   "metadata": {},
   "source": [
    "5. Follow the links below to read the documentation about each function, then apply those functions to the data from the previous problem.\n",
    "\n",
    "    sklearn.metrics.accuracy_score\n",
    "    sklearn.metrics.precision_score\n",
    "    sklearn.metrics.recall_score\n",
    "    sklearn.metrics.classification_report"
   ]
  },
  {
   "cell_type": "code",
   "execution_count": null,
   "id": "755cc5c8",
   "metadata": {},
   "outputs": [],
   "source": []
  }
 ],
 "metadata": {
  "kernelspec": {
   "display_name": "Python 3 (ipykernel)",
   "language": "python",
   "name": "python3"
  },
  "language_info": {
   "codemirror_mode": {
    "name": "ipython",
    "version": 3
   },
   "file_extension": ".py",
   "mimetype": "text/x-python",
   "name": "python",
   "nbconvert_exporter": "python",
   "pygments_lexer": "ipython3",
   "version": "3.9.13"
  }
 },
 "nbformat": 4,
 "nbformat_minor": 5
}
